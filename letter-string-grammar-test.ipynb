{
 "cells": [
  {
   "cell_type": "code",
   "execution_count": 8,
   "metadata": {},
   "outputs": [],
   "source": [
    "import numpy as np\n",
    "import pandas as pd\n",
    "import random"
   ]
  },
  {
   "cell_type": "code",
   "execution_count": 9,
   "metadata": {},
   "outputs": [],
   "source": [
    "chars = [i for i in \"abcdefghijklmnopqrstuvwxyz\"]\n",
    "stoi = { ch:i for i,ch in enumerate(chars) }\n",
    "itos = { i:ch for i,ch in enumerate(chars) }"
   ]
  },
  {
   "cell_type": "code",
   "execution_count": 10,
   "metadata": {},
   "outputs": [
    {
     "data": {
      "text/plain": [
       "'x b b b v v y y y y'"
      ]
     },
     "execution_count": 10,
     "metadata": {},
     "output_type": "execute_result"
    }
   ],
   "source": [
    "## start with making some things that generate letter strings\n",
    "\n",
    "\n",
    "## pick: a group type, group size, a starting character\n",
    "\n",
    "def make_group(size = 1):\n",
    "    out = random.sample(chars, 1) * size \n",
    "    return(\" \".join(out))\n",
    "\n",
    "## make and combine several groups\n",
    "\n",
    "def generate(group_sizes):\n",
    "    ## group_sizes = list of ints\n",
    "    l = [make_group(s) for s in group_sizes]\n",
    "\n",
    "    return(\" \".join(l))\n",
    "\n",
    "\n",
    "generate([1,3,2,4])\n"
   ]
  },
  {
   "cell_type": "code",
   "execution_count": 60,
   "metadata": {},
   "outputs": [
    {
     "data": {
      "text/plain": [
       "('aaabbcdd', ['d', 'd'])"
      ]
     },
     "execution_count": 60,
     "metadata": {},
     "output_type": "execute_result"
    }
   ],
   "source": [
    "## define some group grabbing\n",
    "\n",
    "def get_group_list(x):\n",
    "    ## for when groups are all identity\n",
    "    group_list = [[x[0]]]\n",
    "    i = 0\n",
    "    for c1, c2 in zip(x, x[1:]):\n",
    "        same_group = c1==c2\n",
    "        if same_group:\n",
    "            group_list[i].append(c1)\n",
    "        else:\n",
    "            group_list.append([c2])\n",
    "            i += 1\n",
    "\n",
    "    return(group_list)\n",
    "\n",
    "## grab a particular group: first, last, largest, smallest, size == n\n",
    "\n",
    "def get_group_by_pos(x, pos):\n",
    "    groups = get_group_list(x)\n",
    "    return(\"\".join(groups[pos]))\n",
    "\n",
    "def get_group_by_size(x, size):\n",
    "    groups = get_group_list(x)\n",
    "    matches = [g for g in groups if len(g)==size]\n",
    "    matches = [\"\".join(g) for g in matches]\n",
    "\n",
    "    if len(matches) == 1:\n",
    "        return(matches[0])\n",
    "    else:\n",
    "        return(matches)\n",
    "    \n",
    "def largest(x):\n",
    "    groups = get_group_list(x)\n",
    "    sizes = [len(g) for g in groups]\n",
    "    out = [g for g in groups if len(g)==max(sizes)]\n",
    "\n",
    "    return(out if len(out) > 1 else out[0])\n",
    "\n",
    "def after(x, group):\n",
    "    groups = get_group_list(x)\n",
    "    idx = [i for i in range(len(groups)) if groups[i] == group]\n",
    "\n",
    "    return(groups[idx[0]+1])\n",
    "\n",
    "\n",
    "\n",
    "# largest(x)\n"
   ]
  },
  {
   "cell_type": "code",
   "execution_count": 63,
   "metadata": {},
   "outputs": [
    {
     "data": {
      "text/plain": [
       "['d', 'd']"
      ]
     },
     "execution_count": 63,
     "metadata": {},
     "output_type": "execute_result"
    }
   ],
   "source": [
    "x = \"aaabbcdd\"\n",
    "after(x, [i for i in get_group_by_size(x, 1)])\n"
   ]
  },
  {
   "cell_type": "code",
   "execution_count": 18,
   "metadata": {},
   "outputs": [],
   "source": [
    "## define some transformations\n",
    "def successor(x):\n",
    "    ix = stoi[x[-1]]\n",
    "    succ = itos[ix+1]\n",
    "    return [succ]*len(x)\n",
    "\n",
    "\n",
    "x = \"aaabbc\"\n",
    "# \"\".join(x[:-1]+ successor(get_groups(x)[-1]))"
   ]
  },
  {
   "cell_type": "code",
   "execution_count": 28,
   "metadata": {},
   "outputs": [
    {
     "data": {
      "text/plain": [
       "'b b b b b c'"
      ]
     },
     "execution_count": 28,
     "metadata": {},
     "output_type": "execute_result"
    }
   ],
   "source": [
    "## apply a transformation \n",
    "\n",
    "def transform(x, trans_func, group_pos = None, group_size=None):\n",
    "    group_list = get_group_list(x)\n",
    "    if group_pos is None:\n",
    "        group_list = [trans_func(g) if len(g) == group_size else g for g in group_list]\n",
    "    else:\n",
    "        group_list[group_pos] = trans_func(group_list[group_pos])\n",
    "\n",
    "    out = \" \".join([\" \".join(g) for g in group_list])\n",
    "\n",
    "    return(out)\n",
    "\n",
    "transform(x, successor, group_pos=0)\n"
   ]
  },
  {
   "cell_type": "code",
   "execution_count": 40,
   "metadata": {},
   "outputs": [
    {
     "name": "stdout",
     "output_type": "stream",
     "text": [
      "q q q q q j j j j z z z z z l l l l l k k o o o o b w w f f f f\n",
      "n e e e e x x x x t b b b b b u u z w o o o o o q q q q q\n",
      "j j j j o o b b b b c c c s s s s s h h h x d d d d d v v n n n\n",
      "j h h h h h l s s s s s s x x x g f f t t t t\n",
      "y r r r r t t t n n n n b b e e e e\n",
      "p p p p p t t t t c c c c c\n",
      "c c c u u t t t t t k k k c c a a a a a\n",
      "r r r p p p p r q q q z z z u c c c c t t u u u u u\n",
      "o o o o o k k k k k k k k t r r e e e k k k k k\n",
      "y q q q m m m m m x x x j x y y y y y e e e\n"
     ]
    }
   ],
   "source": [
    "# 65780 different character combinations with 5 groups\n",
    "# x 60 different group_size and group_num combinations\n",
    "# x 19 different group selections (first, last, position = 1-5, size = 3-10, largest, smallest, before, after, between)\n",
    "# x 3 different transformations? (successor, add one, double)\n",
    "\n",
    "# = 200M+ possible strings to generate\n",
    "\n",
    "\n",
    "for i in range(10):\n",
    "    group_num = random.randint(3, 10)\n",
    "    group_sizes = [random.randint(1, 5) for _ in range(group_num)]\n",
    "    z = generate(group_sizes)\n",
    "\n",
    "    print(z)"
   ]
  },
  {
   "cell_type": "code",
   "execution_count": null,
   "metadata": {},
   "outputs": [],
   "source": [
    "## other possible group types would be sequences (abcd, defg) or mirrors (aba, wiw, xxxjjxxx)\n",
    "## sequences are relations (a, successor-of(prev), successor-of(prev))\n",
    "## mirrors could also be seen as relations, e.g. \"jj\" between \"xxx\" and \"xxx\" -> between(jj, xxx, xxx)\n",
    "\n",
    "## abc--> abcd (add group, successor of last)\n",
    "## aabbbccc --> aabbbcccdddd"
   ]
  }
 ],
 "metadata": {
  "kernelspec": {
   "display_name": "openai",
   "language": "python",
   "name": "python3"
  },
  "language_info": {
   "codemirror_mode": {
    "name": "ipython",
    "version": 3
   },
   "file_extension": ".py",
   "mimetype": "text/x-python",
   "name": "python",
   "nbconvert_exporter": "python",
   "pygments_lexer": "ipython3",
   "version": "3.9.16"
  },
  "orig_nbformat": 4
 },
 "nbformat": 4,
 "nbformat_minor": 2
}
